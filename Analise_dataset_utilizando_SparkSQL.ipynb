{
  "cells": [
    {
      "cell_type": "markdown",
      "metadata": {
        "id": "5fa9e2ac-bc4f-4a21-b228-60b258eeb751"
      },
      "source": [
        "## Análise de dataset utilizando SparkSQL"
      ]
    },
    {
      "cell_type": "markdown",
      "metadata": {
        "id": "aa45138f-fde9-425d-a248-6e339699274a"
      },
      "source": [
        "<p style='color: red'>O propósito desse laboratório é mostrar o uso do SparkML para persistir um modelo e carregar um modelo persistido."
      ]
    },
    {
      "cell_type": "markdown",
      "metadata": {
        "id": "d2109c69-4daf-439e-8568-74fbb06fb66f"
      },
      "source": [
        "## Objetivos\n",
        "\n",
        "Os propósitos deste laboratório são:\n",
        " - Carregar o csv no dataframe\n",
        " - Criar uma view temporária baseada em um dataframe\n",
        " - Executar consultas SQL na view\n",
        " - Analisar o dataset utilizando SparkSQL\n"
      ]
    },
    {
      "cell_type": "markdown",
      "metadata": {
        "id": "c350cc09-c47b-4c7f-8802-c3a39e78bd6c"
      },
      "source": [
        "## Datasets\n",
        "\n",
        "Neste laboratório utilizaremos os seguintes datasets:\n",
        "\n",
        " - Versão modificada do dataset 'car mileage'.  Dataset original disponível em https://archive.ics.uci.edu/ml/datasets/auto+mpg\n",
        " - Versão modificada do dataset 'diamonds'. Dataset original disponível em https://www.openml.org/search?type=data&sort=runs&id=42225&status=active"
      ]
    },
    {
      "cell_type": "markdown",
      "metadata": {
        "id": "db94c960-cd0b-4488-82b7-c8453e2b8b44"
      },
      "source": [
        "----\n"
      ]
    },
    {
      "cell_type": "markdown",
      "metadata": {
        "id": "d8f37ad0-62f1-4833-9bb0-873f05c49c1e"
      },
      "source": [
        "## Configuração"
      ]
    },
    {
      "cell_type": "markdown",
      "metadata": {
        "id": "b1d6e8c0-b5ef-4f0c-9314-305da02d817c"
      },
      "source": [
        "Para este laboratório, utilizaremos as bibliotecas seguintes:\n",
        "\n",
        "*   [`PySpark`](https://spark.apache.org/docs/latest/api/python/index.html?utm_medium=Exinfluencer&utm_source=Exinfluencer&utm_content=000026UJ&utm_term=10006555&utm_id=NA-SkillsNetwork-Channel-SkillsNetworkCoursesIBMSkillsNetworkBD0231ENCoursera2789-2023-01-01) para conexão com o Cluster Spark."
      ]
    },
    {
      "cell_type": "markdown",
      "metadata": {
        "id": "ab6f5200-9915-4fb7-beae-c752690ec5a1"
      },
      "source": [
        "### Instalando as Bibliotecas Necessárias\n",
        "\n",
        "Spark Cluster está pre-instalado neste ambiente. Porém, você precisa de bibliotecas como pyspark e findspark para se conectar a este cluster."
      ]
    },
    {
      "cell_type": "markdown",
      "metadata": {
        "id": "542621cd-cf62-4733-818a-092f5c7dbeae"
      },
      "source": [
        "As bibliotecas necessárias seguintes __não__ são pre-instaladas neste ambiente. __Você precisará executar a celula seguinte__ para instalar ambas:\n"
      ]
    },
    {
      "cell_type": "code",
      "execution_count": 1,
      "metadata": {
        "id": "5f27bd62-9d1e-4692-895e-1bee114d5632"
      },
      "outputs": [],
      "source": [
        "!pip install pyspark==3.1.2 -q\n",
        "#!pip install findspark -q"
      ]
    },
    {
      "cell_type": "markdown",
      "metadata": {
        "id": "42190abf-19a7-4617-93f6-ccd3bfeb3965"
      },
      "source": [
        "### Importar as Bibliotecas Necessárias\n",
        "\n",
        "_É recomendado você importar todas as bibliotecas em um único lugar (aqui):_\n"
      ]
    },
    {
      "cell_type": "code",
      "execution_count": 2,
      "metadata": {
        "id": "3d786a9d-efaf-40e2-9120-a9e938e1fe82"
      },
      "outputs": [],
      "source": [
        "# Você pode utilizar esta seção para suprimir avisos gerados pelo código:\n",
        "def warn(*args, **kwargs):\n",
        "    pass\n",
        "import warnings\n",
        "warnings.warn = warn\n",
        "warnings.filterwarnings('ignore')\n",
        "\n",
        "# FindSpark simplifica o processo de utilizar Apache Spark com Python\n",
        "\n",
        "import findspark\n",
        "findspark.init()\n",
        "\n",
        "# Importar Funções/Classes para sparkml\n",
        "\n",
        "from pyspark.sql import SparkSession"
      ]
    },
    {
      "cell_type": "markdown",
      "metadata": {
        "id": "46170a5f-61fd-4fba-83b5-d6286b02f0bb"
      },
      "source": [
        "# Car Mileage Dataset\n"
      ]
    },
    {
      "cell_type": "markdown",
      "metadata": {
        "id": "44c6e8ab-90e0-4057-8b0b-4cb373bb7c1f"
      },
      "source": [
        "## Criando a sessão spark\n"
      ]
    },
    {
      "cell_type": "code",
      "execution_count": 3,
      "metadata": {
        "id": "5648794a-bec0-4f81-a0a8-8490051e76a8"
      },
      "outputs": [],
      "source": [
        "#Criando SparkSession\n",
        "#Ignore qualquer aviso gerado pelo comando SparkSession\n",
        "\n",
        "spark = SparkSession.builder.appName(\"SparkSQL\").getOrCreate()"
      ]
    },
    {
      "cell_type": "markdown",
      "metadata": {
        "id": "91ca9e98-ff3c-4a37-b148-05cbb45fb508"
      },
      "source": [
        "## Carregando o arquivo csv no dataframe"
      ]
    },
    {
      "cell_type": "markdown",
      "metadata": {
        "id": "fb349968-7d1c-449f-a564-f37f257b0434"
      },
      "source": [
        "Download do arquivo de dados\n"
      ]
    },
    {
      "cell_type": "code",
      "execution_count": 4,
      "metadata": {
        "colab": {
          "base_uri": "https://localhost:8080/"
        },
        "id": "ca8b78a3-fcf7-4e81-a46e-7e14f5f843b2",
        "outputId": "a5e6eb64-db84-4ec9-e3e3-fb5b100ae8d1"
      },
      "outputs": [
        {
          "output_type": "stream",
          "name": "stdout",
          "text": [
            "--2025-03-28 14:40:16--  https://cf-courses-data.s3.us.cloud-object-storage.appdomain.cloud/IBM-BD0231EN-SkillsNetwork/datasets/mpg.csv\n",
            "Resolving cf-courses-data.s3.us.cloud-object-storage.appdomain.cloud (cf-courses-data.s3.us.cloud-object-storage.appdomain.cloud)... 169.45.118.108\n",
            "Connecting to cf-courses-data.s3.us.cloud-object-storage.appdomain.cloud (cf-courses-data.s3.us.cloud-object-storage.appdomain.cloud)|169.45.118.108|:443... connected.\n",
            "HTTP request sent, awaiting response... 200 OK\n",
            "Length: 13891 (14K) [text/csv]\n",
            "Saving to: ‘mpg.csv’\n",
            "\n",
            "mpg.csv             100%[===================>]  13.57K  --.-KB/s    in 0s      \n",
            "\n",
            "2025-03-28 14:40:16 (341 MB/s) - ‘mpg.csv’ saved [13891/13891]\n",
            "\n"
          ]
        }
      ],
      "source": [
        "!wget https://cf-courses-data.s3.us.cloud-object-storage.appdomain.cloud/IBM-BD0231EN-SkillsNetwork/datasets/mpg.csv"
      ]
    },
    {
      "cell_type": "markdown",
      "metadata": {
        "id": "9bcb3b6d-e369-4d05-8562-0f47f017a30f"
      },
      "source": [
        "Carregando o dataset no dataframe spark\n"
      ]
    },
    {
      "cell_type": "code",
      "execution_count": 6,
      "metadata": {
        "id": "f1418e92-2eb1-4678-ba6f-10fa6bb7b643"
      },
      "outputs": [],
      "source": [
        "# Carregar mpg dataset\n",
        "mpg_data = spark.read.csv(\"mpg.csv\", header=True, inferSchema=True)"
      ]
    },
    {
      "cell_type": "markdown",
      "metadata": {
        "id": "0fcd23b1-1a03-4630-bae2-b055ac3b00c9"
      },
      "source": [
        "## Criando uma View temporária\n"
      ]
    },
    {
      "cell_type": "markdown",
      "metadata": {
        "id": "dd0d90ed-8237-47b5-8c5d-bd8c9303f34a"
      },
      "source": [
        "Criando uma view temporária para o DataFrame chamada `mileage`"
      ]
    },
    {
      "cell_type": "code",
      "execution_count": 7,
      "metadata": {
        "id": "03d155a3-c079-4624-b7d6-abd090e9571c"
      },
      "outputs": [],
      "source": [
        "mpg_data.createOrReplaceTempView(\"mileage\")"
      ]
    },
    {
      "cell_type": "markdown",
      "metadata": {
        "id": "6cbaaff3-f20e-4d97-99ce-8bb96b6c9f7e"
      },
      "source": [
        "## Executando a consulta SQL no dataframe"
      ]
    },
    {
      "cell_type": "markdown",
      "metadata": {
        "id": "1b249866-53a3-44f8-8a58-dc7dc336c22c"
      },
      "source": [
        "Selecionar todos os carros onde a quilometragem é maior que 40"
      ]
    },
    {
      "cell_type": "code",
      "execution_count": 8,
      "metadata": {
        "id": "05f77d5e-e565-4164-a42a-31eaad27f5b7"
      },
      "outputs": [],
      "source": [
        "results = spark.sql(\"SELECT * FROM mileage WHERE MPG > 40\")"
      ]
    },
    {
      "cell_type": "code",
      "execution_count": 9,
      "metadata": {
        "colab": {
          "base_uri": "https://localhost:8080/"
        },
        "id": "442116ab-4403-418a-b7c3-ec6a622a7b8c",
        "outputId": "39486dbd-d22b-4ea9-adae-ad4a8759961e"
      },
      "outputs": [
        {
          "output_type": "stream",
          "name": "stdout",
          "text": [
            "+----+---------+-----------+----------+------+----------+----+--------+\n",
            "| MPG|Cylinders|Engine Disp|Horsepower|Weight|Accelerate|Year|  Origin|\n",
            "+----+---------+-----------+----------+------+----------+----+--------+\n",
            "|43.1|        4|       90.0|        48|  1985|      21.5|  78|European|\n",
            "|43.4|        4|       90.0|        48|  2335|      23.7|  80|European|\n",
            "|41.5|        4|       98.0|        76|  2144|      14.7|  80|European|\n",
            "|44.3|        4|       90.0|        48|  2085|      21.7|  80|European|\n",
            "|40.8|        4|       85.0|        65|  2110|      19.2|  80|Japanese|\n",
            "|44.6|        4|       91.0|        67|  1850|      13.8|  80|Japanese|\n",
            "|46.6|        4|       86.0|        65|  2110|      17.9|  80|Japanese|\n",
            "|44.0|        4|       97.0|        52|  2130|      24.6|  82|European|\n",
            "+----+---------+-----------+----------+------+----------+----+--------+\n",
            "\n"
          ]
        }
      ],
      "source": [
        "# Mostrar os resultados\n",
        "results.show()"
      ]
    },
    {
      "cell_type": "markdown",
      "metadata": {
        "id": "265dd3c2-ec85-43e8-9566-7cb63da15d70"
      },
      "source": [
        "## Analisando o dataset"
      ]
    },
    {
      "cell_type": "markdown",
      "metadata": {
        "id": "098a4f72-099f-42c4-9d4e-b4a05d2ad673"
      },
      "source": [
        "Listar as origens únicas"
      ]
    },
    {
      "cell_type": "code",
      "execution_count": 10,
      "metadata": {
        "colab": {
          "base_uri": "https://localhost:8080/"
        },
        "id": "33ad1105-a92b-40dc-b5a8-c1e0b47c6037",
        "outputId": "1e8187c8-33ca-4ebf-fb33-6b454eec4a10"
      },
      "outputs": [
        {
          "output_type": "stream",
          "name": "stdout",
          "text": [
            "+--------+\n",
            "|  Origin|\n",
            "+--------+\n",
            "|European|\n",
            "|Japanese|\n",
            "|American|\n",
            "+--------+\n",
            "\n"
          ]
        }
      ],
      "source": [
        "spark.sql(\"SELECT distinct Origin FROM mileage\").show()"
      ]
    },
    {
      "cell_type": "markdown",
      "metadata": {
        "id": "b54ea2ad-25c2-4bc1-a017-49e6e350d60d"
      },
      "source": [
        "Mostrar a contagem de carros Japoneses"
      ]
    },
    {
      "cell_type": "code",
      "execution_count": 11,
      "metadata": {
        "colab": {
          "base_uri": "https://localhost:8080/"
        },
        "id": "8010f46d-92c5-450a-beb6-1af21bec2b22",
        "outputId": "53a527bd-3584-498b-8a56-a9f5de8694dd"
      },
      "outputs": [
        {
          "output_type": "stream",
          "name": "stdout",
          "text": [
            "+--------+\n",
            "|count(1)|\n",
            "+--------+\n",
            "|      79|\n",
            "+--------+\n",
            "\n"
          ]
        }
      ],
      "source": [
        "spark.sql(\"SELECT count(*) FROM mileage where Origin ='Japanese' \").show()"
      ]
    },
    {
      "cell_type": "markdown",
      "metadata": {
        "id": "fef31392-da4f-4f9c-a176-26e0e4ab6c02"
      },
      "source": [
        "Contar o número de carros com quilometragem acima de 40"
      ]
    },
    {
      "cell_type": "code",
      "execution_count": 12,
      "metadata": {
        "colab": {
          "base_uri": "https://localhost:8080/"
        },
        "id": "c3347693-9748-4aa9-bb80-2d6cf50e230f",
        "outputId": "76842532-bdec-45b8-ae99-cd4c834ad66c"
      },
      "outputs": [
        {
          "output_type": "stream",
          "name": "stdout",
          "text": [
            "+--------+\n",
            "|count(1)|\n",
            "+--------+\n",
            "|       8|\n",
            "+--------+\n",
            "\n"
          ]
        }
      ],
      "source": [
        "spark.sql(\"SELECT count(*) FROM mileage where MPG > 40\").show()"
      ]
    },
    {
      "cell_type": "markdown",
      "metadata": {
        "id": "84219b39-e2fd-4de1-b812-506e65f66599"
      },
      "source": [
        "Contar o número de carros feitos por Ano"
      ]
    },
    {
      "cell_type": "code",
      "execution_count": 13,
      "metadata": {
        "colab": {
          "base_uri": "https://localhost:8080/"
        },
        "id": "015c6497-4d03-45e9-8022-1535ccda4ed3",
        "outputId": "adc3838d-cc7f-4d47-988a-356908ee0632"
      },
      "outputs": [
        {
          "output_type": "stream",
          "name": "stdout",
          "text": [
            "+----+-----------+\n",
            "|Year|count(Year)|\n",
            "+----+-----------+\n",
            "|  78|         36|\n",
            "|  81|         28|\n",
            "|  76|         34|\n",
            "|  72|         28|\n",
            "|  77|         28|\n",
            "|  82|         30|\n",
            "|  80|         27|\n",
            "|  73|         40|\n",
            "|  70|         29|\n",
            "|  75|         30|\n",
            "|  71|         27|\n",
            "|  79|         29|\n",
            "|  74|         26|\n",
            "+----+-----------+\n",
            "\n"
          ]
        }
      ],
      "source": [
        "spark.sql(\"SELECT Year, count(Year) FROM mileage group by Year\").show()"
      ]
    },
    {
      "cell_type": "markdown",
      "metadata": {
        "id": "754d9cc4-53e6-4b94-9fdc-a5958bd38bc8"
      },
      "source": [
        "Mostrar o MPG máximo"
      ]
    },
    {
      "cell_type": "code",
      "execution_count": 14,
      "metadata": {
        "colab": {
          "base_uri": "https://localhost:8080/"
        },
        "id": "e92b2e36-0eab-4a36-8fe9-6dacba5cd5d3",
        "outputId": "73615943-e2d2-4b01-81c8-6a22545dcb29"
      },
      "outputs": [
        {
          "output_type": "stream",
          "name": "stdout",
          "text": [
            "+--------+\n",
            "|max(MPG)|\n",
            "+--------+\n",
            "|    46.6|\n",
            "+--------+\n",
            "\n"
          ]
        }
      ],
      "source": [
        "spark.sql(\"SELECT max(MPG) FROM mileage\").show()"
      ]
    },
    {
      "cell_type": "markdown",
      "metadata": {
        "id": "2d8afae0-4750-428c-8aa2-ec5294ed6e8e"
      },
      "source": [
        "Parar a sessão Spark"
      ]
    },
    {
      "cell_type": "code",
      "execution_count": 15,
      "metadata": {
        "id": "abe95a3a-bd57-417c-85f9-15d286263a36"
      },
      "outputs": [],
      "source": [
        "spark.stop()"
      ]
    },
    {
      "cell_type": "markdown",
      "metadata": {
        "id": "1f909b45-4206-4a91-b58c-eb8c90e6e29b"
      },
      "source": [
        "# Diamonds Dataset"
      ]
    },
    {
      "cell_type": "markdown",
      "metadata": {
        "id": "1d5e8e53-2c99-4730-9f3a-8d9210ecf387"
      },
      "source": [
        "### Criando a sessão spark"
      ]
    },
    {
      "cell_type": "markdown",
      "metadata": {
        "id": "f71cbf78-b22d-480f-bd3c-9b2596e884b9"
      },
      "source": [
        "Criando a sessão spark com appname \"SparkSQL Diamonds\"\n"
      ]
    },
    {
      "cell_type": "code",
      "execution_count": 16,
      "metadata": {
        "id": "8e02e71d-4cc7-4103-83b1-d28fcdc47b27"
      },
      "outputs": [],
      "source": [
        "spark = SparkSession.builder.appName(\"SparkSQL Diamonds\").getOrCreate()"
      ]
    },
    {
      "cell_type": "markdown",
      "metadata": {
        "id": "addbbea0-f9b6-41c9-8aa3-0fb438ce8039"
      },
      "source": [
        "### Carregando o arquivo csv no dataframe\n"
      ]
    },
    {
      "cell_type": "markdown",
      "metadata": {
        "id": "afd556c3-33df-4401-a349-d2ec42256b40"
      },
      "source": [
        "Download do arquivo de dados"
      ]
    },
    {
      "cell_type": "code",
      "execution_count": 18,
      "metadata": {
        "colab": {
          "base_uri": "https://localhost:8080/"
        },
        "id": "67406233-5600-4d83-837b-e2db02adde9a",
        "outputId": "30097364-2011-4d5a-dbcb-918d37442f6b"
      },
      "outputs": [
        {
          "output_type": "stream",
          "name": "stdout",
          "text": [
            "--2025-03-28 15:36:28--  https://cf-courses-data.s3.us.cloud-object-storage.appdomain.cloud/IBM-BD0231EN-SkillsNetwork/datasets/diamonds.csv\n",
            "Resolving cf-courses-data.s3.us.cloud-object-storage.appdomain.cloud (cf-courses-data.s3.us.cloud-object-storage.appdomain.cloud)... 198.23.119.245\n",
            "Connecting to cf-courses-data.s3.us.cloud-object-storage.appdomain.cloud (cf-courses-data.s3.us.cloud-object-storage.appdomain.cloud)|198.23.119.245|:443... connected.\n",
            "HTTP request sent, awaiting response... 200 OK\n",
            "Length: 3192561 (3.0M) [text/csv]\n",
            "Saving to: ‘diamonds.csv’\n",
            "\n",
            "diamonds.csv        100%[===================>]   3.04M  8.62MB/s    in 0.4s    \n",
            "\n",
            "2025-03-28 15:36:28 (8.62 MB/s) - ‘diamonds.csv’ saved [3192561/3192561]\n",
            "\n"
          ]
        }
      ],
      "source": [
        "!wget https://cf-courses-data.s3.us.cloud-object-storage.appdomain.cloud/IBM-BD0231EN-SkillsNetwork/datasets/diamonds.csv\n"
      ]
    },
    {
      "cell_type": "markdown",
      "metadata": {
        "id": "5bcd39db-2e72-4a0c-a32e-38fd833211ff"
      },
      "source": [
        "Carregando o dataset diamonds no dataframe spark\n"
      ]
    },
    {
      "cell_type": "code",
      "execution_count": 19,
      "metadata": {
        "id": "0dc44a98-e056-41a1-8dbb-7f906a1cf40f"
      },
      "outputs": [],
      "source": [
        "diamond_data = spark.read.csv(\"diamonds.csv\", header=True, inferSchema=True)"
      ]
    },
    {
      "cell_type": "markdown",
      "metadata": {
        "id": "f175802d-99da-4f19-87d5-5cbd876d6d8b"
      },
      "source": [
        "## Criando uma View temporária"
      ]
    },
    {
      "cell_type": "markdown",
      "metadata": {
        "id": "537acbf2-ecb0-496f-a8c8-cab2d1ce617b"
      },
      "source": [
        "Criando uma view temporária para o DataFrame chamada `diamonds`"
      ]
    },
    {
      "cell_type": "code",
      "execution_count": 20,
      "metadata": {
        "id": "d26ed3d6-c901-4ada-8312-3f967bddad65"
      },
      "outputs": [],
      "source": [
        "diamond_data.createOrReplaceTempView(\"diamonds\")"
      ]
    },
    {
      "cell_type": "markdown",
      "metadata": {
        "id": "2d451786-772c-4763-93d9-d8320f1f482b"
      },
      "source": [
        "## Executando a consulta SQL no dataframe"
      ]
    },
    {
      "cell_type": "markdown",
      "metadata": {
        "id": "74dd7d12-ad71-4dbb-99cd-9b3f6c86e591"
      },
      "source": [
        "Selecionar todas as linhas\n"
      ]
    },
    {
      "cell_type": "code",
      "execution_count": 21,
      "metadata": {
        "colab": {
          "base_uri": "https://localhost:8080/"
        },
        "id": "0a1aa6bd-13da-4f24-908b-298548041316",
        "outputId": "b129cb5b-bf2a-41ba-adf3-1584090f4ab5"
      },
      "outputs": [
        {
          "output_type": "stream",
          "name": "stdout",
          "text": [
            "+---+-----+---------+-----+-------+-----+-----+-----+----+----+----+\n",
            "|  s|carat|      cut|color|clarity|depth|table|price|   x|   y|   z|\n",
            "+---+-----+---------+-----+-------+-----+-----+-----+----+----+----+\n",
            "|  1| 0.23|    Ideal|    E|    SI2| 61.5| 55.0|  326|3.95|3.98|2.43|\n",
            "|  2| 0.21|  Premium|    E|    SI1| 59.8| 61.0|  326|3.89|3.84|2.31|\n",
            "|  3| 0.23|     Good|    E|    VS1| 56.9| 65.0|  327|4.05|4.07|2.31|\n",
            "|  4| 0.29|  Premium|    I|    VS2| 62.4| 58.0|  334| 4.2|4.23|2.63|\n",
            "|  5| 0.31|     Good|    J|    SI2| 63.3| 58.0|  335|4.34|4.35|2.75|\n",
            "|  6| 0.24|Very Good|    J|   VVS2| 62.8| 57.0|  336|3.94|3.96|2.48|\n",
            "|  7| 0.24|Very Good|    I|   VVS1| 62.3| 57.0|  336|3.95|3.98|2.47|\n",
            "|  8| 0.26|Very Good|    H|    SI1| 61.9| 55.0|  337|4.07|4.11|2.53|\n",
            "|  9| 0.22|     Fair|    E|    VS2| 65.1| 61.0|  337|3.87|3.78|2.49|\n",
            "| 10| 0.23|Very Good|    H|    VS1| 59.4| 61.0|  338| 4.0|4.05|2.39|\n",
            "| 11|  0.3|     Good|    J|    SI1| 64.0| 55.0|  339|4.25|4.28|2.73|\n",
            "| 12| 0.23|    Ideal|    J|    VS1| 62.8| 56.0|  340|3.93| 3.9|2.46|\n",
            "| 13| 0.22|  Premium|    F|    SI1| 60.4| 61.0|  342|3.88|3.84|2.33|\n",
            "| 14| 0.31|    Ideal|    J|    SI2| 62.2| 54.0|  344|4.35|4.37|2.71|\n",
            "| 15|  0.2|  Premium|    E|    SI2| 60.2| 62.0|  345|3.79|3.75|2.27|\n",
            "| 16| 0.32|  Premium|    E|     I1| 60.9| 58.0|  345|4.38|4.42|2.68|\n",
            "| 17|  0.3|    Ideal|    I|    SI2| 62.0| 54.0|  348|4.31|4.34|2.68|\n",
            "| 18|  0.3|     Good|    J|    SI1| 63.4| 54.0|  351|4.23|4.29| 2.7|\n",
            "| 19|  0.3|     Good|    J|    SI1| 63.8| 56.0|  351|4.23|4.26|2.71|\n",
            "| 20|  0.3|Very Good|    J|    SI1| 62.7| 59.0|  351|4.21|4.27|2.66|\n",
            "+---+-----+---------+-----+-------+-----+-----+-----+----+----+----+\n",
            "only showing top 20 rows\n",
            "\n"
          ]
        }
      ],
      "source": [
        "results = spark.sql(\"SELECT * FROM diamonds\")\n",
        "results.show()"
      ]
    },
    {
      "cell_type": "markdown",
      "metadata": {
        "id": "2b8bbf6c-4141-42a8-a9e2-5b38b250d652"
      },
      "source": [
        "## Analisando o dataset"
      ]
    },
    {
      "cell_type": "markdown",
      "metadata": {
        "id": "57d19a53-528c-4309-a476-4e5dd38020d0"
      },
      "source": [
        "Listar todos os únicos cortes"
      ]
    },
    {
      "cell_type": "code",
      "execution_count": 22,
      "metadata": {
        "colab": {
          "base_uri": "https://localhost:8080/"
        },
        "id": "4f6b3366-e299-48e0-b397-4bccae6f5a53",
        "outputId": "a547cc9a-0b85-4812-dc67-4c37a2e2f0ba"
      },
      "outputs": [
        {
          "output_type": "stream",
          "name": "stdout",
          "text": [
            "+---------+\n",
            "|      cut|\n",
            "+---------+\n",
            "|  Premium|\n",
            "|    Ideal|\n",
            "|     Good|\n",
            "|     Fair|\n",
            "|Very Good|\n",
            "+---------+\n",
            "\n"
          ]
        }
      ],
      "source": [
        "spark.sql(\"SELECT distinct cut FROM diamonds\").show()"
      ]
    },
    {
      "cell_type": "markdown",
      "metadata": {
        "id": "f30e1252-1aa3-4aff-bbc8-72d93fe5492e"
      },
      "source": [
        "Contar o número de Cortes Premium"
      ]
    },
    {
      "cell_type": "code",
      "execution_count": 23,
      "metadata": {
        "colab": {
          "base_uri": "https://localhost:8080/"
        },
        "id": "5362dc7e-5190-405a-abf8-d16be85b8d12",
        "outputId": "b79ef942-10ba-4330-c556-7f3c0550cd8d"
      },
      "outputs": [
        {
          "output_type": "stream",
          "name": "stdout",
          "text": [
            "+--------+\n",
            "|count(1)|\n",
            "+--------+\n",
            "|   13791|\n",
            "+--------+\n",
            "\n"
          ]
        }
      ],
      "source": [
        "spark.sql(\"SELECT count(*) FROM diamonds where cut ='Premium' \").show()"
      ]
    },
    {
      "cell_type": "markdown",
      "metadata": {
        "id": "93c8d0fe-9215-4da9-ba99-2bf3034db015"
      },
      "source": [
        "Contar o numero de diamantes com tamanho da mesa maior que 65\n"
      ]
    },
    {
      "cell_type": "code",
      "execution_count": 24,
      "metadata": {
        "colab": {
          "base_uri": "https://localhost:8080/"
        },
        "id": "d4d59b0e-5a5e-47c6-b9ed-83daf1a3f56f",
        "outputId": "5b736469-2f14-4de0-9a27-703f8ae4cc85"
      },
      "outputs": [
        {
          "output_type": "stream",
          "name": "stdout",
          "text": [
            "+--------+\n",
            "|count(1)|\n",
            "+--------+\n",
            "|     181|\n",
            "+--------+\n",
            "\n"
          ]
        }
      ],
      "source": [
        "spark.sql(\"SELECT count(*) FROM diamonds where table > 65\").show()"
      ]
    },
    {
      "cell_type": "markdown",
      "metadata": {
        "id": "aaaadc8c-7349-4688-b059-3667039798c6"
      },
      "source": [
        "Listar o número de diamantes de cada cor"
      ]
    },
    {
      "cell_type": "code",
      "execution_count": 25,
      "metadata": {
        "colab": {
          "base_uri": "https://localhost:8080/"
        },
        "id": "d97bb8ab-bc92-4f6c-b644-4f5d07ae26a1",
        "outputId": "e78341c1-a0d9-4ab6-c80c-10e479f5f7cd"
      },
      "outputs": [
        {
          "output_type": "stream",
          "name": "stdout",
          "text": [
            "+-----+------------+\n",
            "|color|count(color)|\n",
            "+-----+------------+\n",
            "|    F|        9542|\n",
            "|    E|        9797|\n",
            "|    D|        6775|\n",
            "|    J|        2808|\n",
            "|    G|       11292|\n",
            "|    I|        5422|\n",
            "|    H|        8304|\n",
            "+-----+------------+\n",
            "\n"
          ]
        }
      ],
      "source": [
        "spark.sql(\"SELECT color, count(color) FROM diamonds group by color\").show()"
      ]
    },
    {
      "cell_type": "markdown",
      "metadata": {
        "id": "7f6cbd3b-6eb8-4288-9236-eb42b54aad24"
      },
      "source": [
        "Mostrar o maior preço"
      ]
    },
    {
      "cell_type": "code",
      "execution_count": 26,
      "metadata": {
        "colab": {
          "base_uri": "https://localhost:8080/"
        },
        "id": "763cdb35-5fbe-4abe-b055-bf862bd4d333",
        "outputId": "0adae562-95f8-4419-b2de-a16ecb52d5b1"
      },
      "outputs": [
        {
          "output_type": "stream",
          "name": "stdout",
          "text": [
            "+----------+\n",
            "|max(price)|\n",
            "+----------+\n",
            "|     18823|\n",
            "+----------+\n",
            "\n"
          ]
        }
      ],
      "source": [
        "spark.sql(\"SELECT max(price) FROM diamonds\").show()"
      ]
    },
    {
      "cell_type": "markdown",
      "metadata": {
        "id": "7f048d8f-aba4-4ac9-adaf-10b97871cc38"
      },
      "source": [
        "Parar a sessão Spark\n"
      ]
    },
    {
      "cell_type": "code",
      "execution_count": 27,
      "metadata": {
        "id": "9aeafd80-cf76-4f72-8a8b-0a8557bc81f4"
      },
      "outputs": [],
      "source": [
        "spark.stop()"
      ]
    },
    {
      "cell_type": "markdown",
      "metadata": {
        "id": "e67a973d-f970-433c-b55b-d3a076380917"
      },
      "source": [
        "<!--\n",
        "## Change Log\n",
        "-->\n"
      ]
    },
    {
      "cell_type": "markdown",
      "metadata": {
        "id": "0a44f0ca-941e-4fca-bd04-efef84620da6"
      },
      "source": [
        "<!--\n",
        "|Date (YYYY-MM-DD)|Version|Changed By|Change Description|\n",
        "|-|-|-|-|\n",
        "|2023-05-04|0.1|Ramesh Sannareddy|Initial Version Created|\n",
        "-->\n"
      ]
    }
  ],
  "metadata": {
    "kernelspec": {
      "display_name": "Python",
      "language": "python",
      "name": "conda-env-python-py"
    },
    "language_info": {
      "codemirror_mode": {
        "name": "ipython",
        "version": 3
      },
      "file_extension": ".py",
      "mimetype": "text/x-python",
      "name": "python",
      "nbconvert_exporter": "python",
      "pygments_lexer": "ipython3",
      "version": "3.7.12"
    },
    "prev_pub_hash": "a391e24e3daa16c4386301f44198f17ee92d59e53325e6062333c2817e9001fe",
    "colab": {
      "provenance": [],
      "toc_visible": true
    }
  },
  "nbformat": 4,
  "nbformat_minor": 0
}