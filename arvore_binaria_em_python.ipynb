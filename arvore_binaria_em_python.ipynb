{
 "cells": [
  {
   "cell_type": "code",
   "execution_count": 1,
   "metadata": {},
   "outputs": [],
   "source": [
    "class Arvore_Binaria:\n",
    "    def __init__(self, key=None):\n",
    "        self.no = key\n",
    "        self.left = None\n",
    "        self.right = None\n",
    "    \n",
    "    def insere_esquerda(self, objeto):\n",
    "        if(self is None):\n",
    "            return Arvore_Binaria(key=objeto)\n",
    "        else:\n",
    "            return Arvore_Binaria.insere(no.left, objeto)\n",
    "    \n",
    "    def insere_direita(self, objeto):\n",
    "        if(self is None):\n",
    "            return Arvore_Binaria(key=objeto)\n",
    "        else:\n",
    "            return Arvore_Binaria.insere(no.right, objeto)\n",
    "\n",
    "\n",
    "    def insere(no , objeto):\n",
    "        if (no.no is None):\n",
    "            return Arvore_Binaria(key=objeto)\n",
    "        elif (objeto < no.no):\n",
    "            no.left = Arvore_Binaria.insere_esquerda(no.left,objeto)\n",
    "        elif (objeto > no.no):\n",
    "            no.right = Arvore_Binaria.insere_direita(no.right,objeto)\n",
    "        return no\n",
    "\n",
    "    def imprime(self):\n",
    "        if(self.left != None):\n",
    "            self.left.imprime()\n",
    "        print(self.no)\n",
    "        if(self.right != None):\n",
    "            self.right.imprime()\n",
    "\n",
    "    def imprime_desc(self):\n",
    "        if(self.right != None):\n",
    "            self.right.imprime()\n",
    "        print(self.no)\n",
    "        if(self.left != None):\n",
    "            self.left.imprime()    "
   ]
  },
  {
   "cell_type": "markdown",
   "metadata": {},
   "source": [
    "Inicialização da árvore"
   ]
  },
  {
   "cell_type": "code",
   "execution_count": 2,
   "metadata": {},
   "outputs": [],
   "source": [
    "no = Arvore_Binaria(key=100)"
   ]
  },
  {
   "cell_type": "markdown",
   "metadata": {},
   "source": [
    "Verificando se o valor foi inserido na àrvore"
   ]
  },
  {
   "cell_type": "code",
   "execution_count": 3,
   "metadata": {},
   "outputs": [
    {
     "name": "stdout",
     "output_type": "stream",
     "text": [
      "100\n"
     ]
    }
   ],
   "source": [
    "no.imprime()"
   ]
  },
  {
   "cell_type": "markdown",
   "metadata": {},
   "source": [
    "Ou podemos inicializar a raiz da árvore para depois incluir o valor do nó"
   ]
  },
  {
   "cell_type": "code",
   "execution_count": 4,
   "metadata": {},
   "outputs": [
    {
     "name": "stdout",
     "output_type": "stream",
     "text": [
      "100\n"
     ]
    }
   ],
   "source": [
    "no = Arvore_Binaria()\n",
    "no = Arvore_Binaria.insere(no,100)\n",
    "no.imprime()"
   ]
  },
  {
   "cell_type": "markdown",
   "metadata": {},
   "source": [
    "Inserimos 2 novos valores na árvore"
   ]
  },
  {
   "cell_type": "code",
   "execution_count": 5,
   "metadata": {},
   "outputs": [],
   "source": [
    "no = Arvore_Binaria.insere(no, 43)\n",
    "no = Arvore_Binaria.insere(no, 257)"
   ]
  },
  {
   "cell_type": "markdown",
   "metadata": {},
   "source": [
    "A arvore imprime em ordem crescente"
   ]
  },
  {
   "cell_type": "code",
   "execution_count": 6,
   "metadata": {},
   "outputs": [
    {
     "name": "stdout",
     "output_type": "stream",
     "text": [
      "43\n",
      "100\n",
      "257\n"
     ]
    }
   ],
   "source": [
    "no.imprime()"
   ]
  },
  {
   "cell_type": "markdown",
   "metadata": {},
   "source": [
    "Verificando se os nós serão incluídos na ordem correta"
   ]
  },
  {
   "cell_type": "code",
   "execution_count": 7,
   "metadata": {},
   "outputs": [],
   "source": [
    "no = Arvore_Binaria.insere(no, 205)\n",
    "no = Arvore_Binaria.insere(no, 78)"
   ]
  },
  {
   "cell_type": "markdown",
   "metadata": {},
   "source": [
    "Imprimindo em ordem crescente:"
   ]
  },
  {
   "cell_type": "code",
   "execution_count": 8,
   "metadata": {},
   "outputs": [
    {
     "name": "stdout",
     "output_type": "stream",
     "text": [
      "43\n",
      "78\n",
      "100\n",
      "205\n",
      "257\n"
     ]
    }
   ],
   "source": [
    "no.imprime()"
   ]
  },
  {
   "cell_type": "markdown",
   "metadata": {},
   "source": [
    "Imprimindo em ordem decrescente:"
   ]
  },
  {
   "cell_type": "code",
   "execution_count": 9,
   "metadata": {},
   "outputs": [
    {
     "name": "stdout",
     "output_type": "stream",
     "text": [
      "205\n",
      "257\n",
      "100\n",
      "43\n",
      "78\n"
     ]
    }
   ],
   "source": [
    "no.imprime_desc()"
   ]
  },
  {
   "cell_type": "code",
   "execution_count": null,
   "metadata": {},
   "outputs": [],
   "source": []
  }
 ],
 "metadata": {
  "kernelspec": {
   "display_name": "Python 3",
   "language": "python",
   "name": "python3"
  },
  "language_info": {
   "codemirror_mode": {
    "name": "ipython",
    "version": 3
   },
   "file_extension": ".py",
   "mimetype": "text/x-python",
   "name": "python",
   "nbconvert_exporter": "python",
   "pygments_lexer": "ipython3",
   "version": "3.12.2"
  }
 },
 "nbformat": 4,
 "nbformat_minor": 2
}
